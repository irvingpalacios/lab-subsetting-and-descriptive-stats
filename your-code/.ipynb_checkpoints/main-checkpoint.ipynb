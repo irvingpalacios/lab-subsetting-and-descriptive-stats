{
 "cells": [
  {
   "cell_type": "markdown",
   "metadata": {
    "id": "Ipm2zKtoa5YO"
   },
   "source": [
    "https://www.kite.com/python/answers/how-to-select-rows-by-multiple-label-conditions-with-pandas-loc-in-python#:~:text=loc%20condition%20to%20return%20the,a%20valid%20form%20for%20condition%20."
   ]
  },
  {
   "cell_type": "markdown",
   "metadata": {
    "id": "3J1dWMUtI9EX"
   },
   "source": [
    "# Before you start :\n",
    "   - These exercises are related to the Subsetting and Descriptive Stats lessons.\n",
    "   - Keep in mind that you need to use some of the functions you learned in the previous lessons.\n",
    "   - All datasets are provided in the `your-code` folder of this lab.\n",
    "   - Elaborate your codes and outputs as much as you can.\n",
    "   - Try your best to answer the questions and complete the tasks and most importantly enjoy the process!!!"
   ]
  },
  {
   "cell_type": "markdown",
   "metadata": {
    "id": "naFbli9JI9Ec"
   },
   "source": [
    "#### Import all the libraries that are necessary"
   ]
  },
  {
   "cell_type": "code",
   "execution_count": 124,
   "metadata": {
    "id": "vCuLPJkII9Ee"
   },
   "outputs": [],
   "source": [
    "# import libraries here\n",
    "import pandas as pd\n",
    "import numpy as np\n",
    "\n",
    "import matplotlib\n",
    "%matplotlib inline"
   ]
  },
  {
   "cell_type": "markdown",
   "metadata": {
    "id": "7tpCH1lkI9Ee"
   },
   "source": [
    "# Challenge 1"
   ]
  },
  {
   "cell_type": "markdown",
   "metadata": {
    "id": "CDVBspJEI9Ef"
   },
   "source": [
    "#### In this challenge we will use the `Temp_States.csv` file. \n",
    "\n",
    "#### First import it into a data frame called `temp`."
   ]
  },
  {
   "cell_type": "code",
   "execution_count": 125,
   "metadata": {
    "id": "MaJnIcjUI9Ef"
   },
   "outputs": [],
   "source": [
    "# your answer here\n",
    "temp = pd.read_csv('Temp_States.csv')"
   ]
  },
  {
   "cell_type": "markdown",
   "metadata": {
    "id": "XaE8H8eCI9Ef"
   },
   "source": [
    "#### Print `temp`"
   ]
  },
  {
   "cell_type": "code",
   "execution_count": 126,
   "metadata": {
    "colab": {
     "base_uri": "https://localhost:8080/"
    },
    "executionInfo": {
     "elapsed": 39,
     "status": "ok",
     "timestamp": 1622667087339,
     "user": {
      "displayName": "irving palacios",
      "photoUrl": "https://lh3.googleusercontent.com/a-/AOh14Gjw6M4LpzTUVro1G-5_aqYZYQhXb8NkvR-4cdiB=s64",
      "userId": "06814234566595318222"
     },
     "user_tz": 300
    },
    "id": "gKLsX2I1I9Eg",
    "outputId": "13db6fc3-48fc-47c0-a9d2-28bfb37f8369"
   },
   "outputs": [
    {
     "name": "stdout",
     "output_type": "stream",
     "text": [
      "         City        State  Temperature\n",
      "0         NYC     New York    19.444444\n",
      "1      Albany     New York     9.444444\n",
      "2     Buffalo     New York     3.333333\n",
      "3    Hartford  Connecticut    17.222222\n",
      "4  Bridgeport  Connecticut    14.444444\n",
      "5      Treton   New Jersey    22.222222\n",
      "6      Newark   New Jersey    20.000000\n"
     ]
    }
   ],
   "source": [
    "print(temp)"
   ]
  },
  {
   "cell_type": "markdown",
   "metadata": {
    "id": "gSXx57dxI9Eg"
   },
   "source": [
    "#### Explore the data types of the Temp dataframe. What type of data do we have? Comment your result."
   ]
  },
  {
   "cell_type": "code",
   "execution_count": 127,
   "metadata": {
    "colab": {
     "base_uri": "https://localhost:8080/"
    },
    "executionInfo": {
     "elapsed": 27,
     "status": "ok",
     "timestamp": 1622667087339,
     "user": {
      "displayName": "irving palacios",
      "photoUrl": "https://lh3.googleusercontent.com/a-/AOh14Gjw6M4LpzTUVro1G-5_aqYZYQhXb8NkvR-4cdiB=s64",
      "userId": "06814234566595318222"
     },
     "user_tz": 300
    },
    "id": "0HfUus3aI9Eg",
    "outputId": "3c511f43-cf02-4046-f1e1-924f589a49f9"
   },
   "outputs": [
    {
     "data": {
      "text/plain": [
       "City            object\n",
       "State           object\n",
       "Temperature    float64\n",
       "dtype: object"
      ]
     },
     "execution_count": 127,
     "metadata": {},
     "output_type": "execute_result"
    }
   ],
   "source": [
    "# your answer here\n",
    "temp.dtypes"
   ]
  },
  {
   "cell_type": "markdown",
   "metadata": {
    "id": "4TTppwjnI9Eg"
   },
   "source": [
    "#### Select the rows where state is New York"
   ]
  },
  {
   "cell_type": "code",
   "execution_count": 128,
   "metadata": {
    "colab": {
     "base_uri": "https://localhost:8080/"
    },
    "executionInfo": {
     "elapsed": 18,
     "status": "ok",
     "timestamp": 1622667087339,
     "user": {
      "displayName": "irving palacios",
      "photoUrl": "https://lh3.googleusercontent.com/a-/AOh14Gjw6M4LpzTUVro1G-5_aqYZYQhXb8NkvR-4cdiB=s64",
      "userId": "06814234566595318222"
     },
     "user_tz": 300
    },
    "id": "dq1q79TOI9Eg",
    "outputId": "a17a1bf8-f11a-41bd-b830-9526a6de5257"
   },
   "outputs": [
    {
     "name": "stdout",
     "output_type": "stream",
     "text": [
      "      City     State  Temperature\n",
      "0      NYC  New York    19.444444\n",
      "1   Albany  New York     9.444444\n",
      "2  Buffalo  New York     3.333333\n"
     ]
    }
   ],
   "source": [
    "# your answer here\n",
    "\n",
    "print(temp[temp.State == 'New York'])"
   ]
  },
  {
   "cell_type": "markdown",
   "metadata": {
    "id": "1vVynT1HI9Eh"
   },
   "source": [
    "#### What is the average of the temperature of cities in New York?"
   ]
  },
  {
   "cell_type": "code",
   "execution_count": 129,
   "metadata": {
    "colab": {
     "base_uri": "https://localhost:8080/"
    },
    "executionInfo": {
     "elapsed": 12,
     "status": "ok",
     "timestamp": 1622667087340,
     "user": {
      "displayName": "irving palacios",
      "photoUrl": "https://lh3.googleusercontent.com/a-/AOh14Gjw6M4LpzTUVro1G-5_aqYZYQhXb8NkvR-4cdiB=s64",
      "userId": "06814234566595318222"
     },
     "user_tz": 300
    },
    "id": "ZCqNf0pyI9Eh",
    "outputId": "f16d86fa-e7e7-4453-b95e-f3c41759e5db"
   },
   "outputs": [
    {
     "name": "stdout",
     "output_type": "stream",
     "text": [
      "Temperature    10.740741\n",
      "dtype: float64\n"
     ]
    }
   ],
   "source": [
    "# your answer here\n",
    "print(temp[temp.State == 'New York'].mean())"
   ]
  },
  {
   "cell_type": "markdown",
   "metadata": {
    "id": "h0sWDyPhI9Eh"
   },
   "source": [
    "#### We want to know cities and states with Temperature above 15 degress Celcius"
   ]
  },
  {
   "cell_type": "code",
   "execution_count": 130,
   "metadata": {
    "colab": {
     "base_uri": "https://localhost:8080/"
    },
    "executionInfo": {
     "elapsed": 268,
     "status": "ok",
     "timestamp": 1622667087600,
     "user": {
      "displayName": "irving palacios",
      "photoUrl": "https://lh3.googleusercontent.com/a-/AOh14Gjw6M4LpzTUVro1G-5_aqYZYQhXb8NkvR-4cdiB=s64",
      "userId": "06814234566595318222"
     },
     "user_tz": 300
    },
    "id": "OLfMgXfXI9Eh",
    "outputId": "bac5ff14-4871-4512-b779-821e70f7a938"
   },
   "outputs": [
    {
     "name": "stdout",
     "output_type": "stream",
     "text": [
      "       City        State  Temperature\n",
      "0       NYC     New York    19.444444\n",
      "3  Hartford  Connecticut    17.222222\n",
      "5    Treton   New Jersey    22.222222\n",
      "6    Newark   New Jersey    20.000000\n"
     ]
    }
   ],
   "source": [
    "# your answer here\n",
    "temp2 = temp[temp.Temperature > 15]\n",
    "print(temp2)"
   ]
  },
  {
   "cell_type": "markdown",
   "metadata": {
    "id": "kCDZp8xJI9Eh"
   },
   "source": [
    "#### Now, return only the cities that have a temperature above 15 degress Celcius"
   ]
  },
  {
   "cell_type": "code",
   "execution_count": 131,
   "metadata": {
    "colab": {
     "base_uri": "https://localhost:8080/"
    },
    "executionInfo": {
     "elapsed": 20,
     "status": "ok",
     "timestamp": 1622667087600,
     "user": {
      "displayName": "irving palacios",
      "photoUrl": "https://lh3.googleusercontent.com/a-/AOh14Gjw6M4LpzTUVro1G-5_aqYZYQhXb8NkvR-4cdiB=s64",
      "userId": "06814234566595318222"
     },
     "user_tz": 300
    },
    "id": "LFz4HaQgI9Ei",
    "outputId": "1542fc5c-dad4-41eb-d6e6-3ebc49dc8686"
   },
   "outputs": [
    {
     "name": "stdout",
     "output_type": "stream",
     "text": [
      "0         NYC\n",
      "3    Hartford\n",
      "5      Treton\n",
      "6      Newark\n",
      "Name: City, dtype: object\n"
     ]
    }
   ],
   "source": [
    "# your answer here\n",
    "\n",
    "print(temp2['City'])"
   ]
  },
  {
   "cell_type": "markdown",
   "metadata": {
    "id": "-L0hO07HI9Ei"
   },
   "source": [
    "#### We want to know which cities have a temperature above 15 degrees Celcius and below 20 degrees Celcius\n",
    "\n",
    "*Hint: First write the condition then select the rows.*"
   ]
  },
  {
   "cell_type": "code",
   "execution_count": 132,
   "metadata": {
    "colab": {
     "base_uri": "https://localhost:8080/"
    },
    "executionInfo": {
     "elapsed": 19,
     "status": "ok",
     "timestamp": 1622667087601,
     "user": {
      "displayName": "irving palacios",
      "photoUrl": "https://lh3.googleusercontent.com/a-/AOh14Gjw6M4LpzTUVro1G-5_aqYZYQhXb8NkvR-4cdiB=s64",
      "userId": "06814234566595318222"
     },
     "user_tz": 300
    },
    "id": "dJss_DfdI9Ei",
    "outputId": "21a1d14c-f372-48db-b50a-b56fc79187b8"
   },
   "outputs": [
    {
     "name": "stdout",
     "output_type": "stream",
     "text": [
      "       City        State  Temperature\n",
      "0       NYC     New York    19.444444\n",
      "3  Hartford  Connecticut    17.222222\n"
     ]
    }
   ],
   "source": [
    "# your answer here\n",
    "temp2 = temp[(temp.Temperature > 15)&(temp.Temperature < 20)]\n",
    "print(temp2)"
   ]
  },
  {
   "cell_type": "markdown",
   "metadata": {
    "id": "aAlbwQQ2I9Ei"
   },
   "source": [
    "#### Find the mean and the standard deviation of the temperature of each state.\n",
    "\n",
    "*Hint: Use functions from Data Manipulation lesson*"
   ]
  },
  {
   "cell_type": "code",
   "execution_count": 133,
   "metadata": {
    "colab": {
     "base_uri": "https://localhost:8080/"
    },
    "executionInfo": {
     "elapsed": 17,
     "status": "ok",
     "timestamp": 1622667087601,
     "user": {
      "displayName": "irving palacios",
      "photoUrl": "https://lh3.googleusercontent.com/a-/AOh14Gjw6M4LpzTUVro1G-5_aqYZYQhXb8NkvR-4cdiB=s64",
      "userId": "06814234566595318222"
     },
     "user_tz": 300
    },
    "id": "2W1pwTr-I9Ei",
    "outputId": "33c7365d-ff39-4c26-d665-5477e0b13901"
   },
   "outputs": [
    {
     "name": "stdout",
     "output_type": "stream",
     "text": [
      "         State Temperature          \n",
      "                      mean       std\n",
      "0  Connecticut   15.833333  1.964186\n",
      "1   New Jersey   21.111111  1.571348\n",
      "2     New York   10.740741  8.133404\n"
     ]
    }
   ],
   "source": [
    "# your answer here\n",
    "avg_stats_temp = temp.groupby(\"State\", as_index=False).agg({\"Temperature\":[\"mean\",\"std\"]})\n",
    "\n",
    "print(avg_stats_temp)"
   ]
  },
  {
   "cell_type": "markdown",
   "metadata": {
    "id": "yPfwJPTVI9Ej"
   },
   "source": [
    "# Challenge 2"
   ]
  },
  {
   "cell_type": "markdown",
   "metadata": {
    "id": "sC8xFDffI9Ej"
   },
   "source": [
    "#### Load the `employee.csv` file into a DataFrame. Call the dataframe `employee`"
   ]
  },
  {
   "cell_type": "code",
   "execution_count": 134,
   "metadata": {
    "id": "BpCLxhE7I9Ej"
   },
   "outputs": [],
   "source": [
    "# your answer here\n",
    "employee = pd.read_csv('Employee.csv')"
   ]
  },
  {
   "cell_type": "code",
   "execution_count": 135,
   "metadata": {
    "colab": {
     "base_uri": "https://localhost:8080/"
    },
    "executionInfo": {
     "elapsed": 15,
     "status": "ok",
     "timestamp": 1622667087602,
     "user": {
      "displayName": "irving palacios",
      "photoUrl": "https://lh3.googleusercontent.com/a-/AOh14Gjw6M4LpzTUVro1G-5_aqYZYQhXb8NkvR-4cdiB=s64",
      "userId": "06814234566595318222"
     },
     "user_tz": 300
    },
    "id": "werWJFH_pZfK",
    "outputId": "aa10ea4d-7a47-488e-e17f-8ef3fa9864ec"
   },
   "outputs": [
    {
     "name": "stdout",
     "output_type": "stream",
     "text": [
      "     Name Department Education Gender      Title  Years  Salary\n",
      "0    Jose         IT  Bachelor      M    analyst      1      35\n",
      "1   Maria         IT    Master      F    analyst      2      30\n",
      "2   David         HR    Master      M    analyst      2      30\n",
      "3   Sonia         HR  Bachelor      F    analyst      4      35\n",
      "4  Samuel      Sales    Master      M  associate      3      55\n",
      "5     Eva      Sales  Bachelor      F  associate      2      55\n",
      "6  Carlos         IT    Master      M         VP      8      70\n",
      "7   Pedro         IT       Phd      M  associate      7      60\n",
      "8     Ana         HR    Master      F         VP      8      70\n"
     ]
    }
   ],
   "source": [
    "print(employee)"
   ]
  },
  {
   "cell_type": "markdown",
   "metadata": {
    "id": "SuX3glhPI9Ej"
   },
   "source": [
    "#### Explore the data types of the Temp dataframe. Comment your results"
   ]
  },
  {
   "cell_type": "code",
   "execution_count": 136,
   "metadata": {
    "colab": {
     "base_uri": "https://localhost:8080/"
    },
    "executionInfo": {
     "elapsed": 12,
     "status": "ok",
     "timestamp": 1622667087602,
     "user": {
      "displayName": "irving palacios",
      "photoUrl": "https://lh3.googleusercontent.com/a-/AOh14Gjw6M4LpzTUVro1G-5_aqYZYQhXb8NkvR-4cdiB=s64",
      "userId": "06814234566595318222"
     },
     "user_tz": 300
    },
    "id": "LSn_5yiKI9Ej",
    "outputId": "ca3e8a9c-b32f-40d1-b32f-6257c6697d16"
   },
   "outputs": [
    {
     "name": "stdout",
     "output_type": "stream",
     "text": [
      "Name          object\n",
      "Department    object\n",
      "Education     object\n",
      "Gender        object\n",
      "Title         object\n",
      "Years          int64\n",
      "Salary         int64\n",
      "dtype: object\n"
     ]
    }
   ],
   "source": [
    "# your answer here\n",
    "print(employee.dtypes)"
   ]
  },
  {
   "cell_type": "code",
   "execution_count": 137,
   "metadata": {
    "colab": {
     "base_uri": "https://localhost:8080/"
    },
    "executionInfo": {
     "elapsed": 11,
     "status": "ok",
     "timestamp": 1622667087603,
     "user": {
      "displayName": "irving palacios",
      "photoUrl": "https://lh3.googleusercontent.com/a-/AOh14Gjw6M4LpzTUVro1G-5_aqYZYQhXb8NkvR-4cdiB=s64",
      "userId": "06814234566595318222"
     },
     "user_tz": 300
    },
    "id": "1p8j3qstjL8c",
    "outputId": "3784fabd-ebae-4e64-bd5a-e173687efb63"
   },
   "outputs": [
    {
     "name": "stdout",
     "output_type": "stream",
     "text": [
      "City            object\n",
      "State           object\n",
      "Temperature    float64\n",
      "dtype: object\n"
     ]
    }
   ],
   "source": [
    "#Ahi dice Temp, entonces por si las moscas jajaja\n",
    "\n",
    "print(temp.dtypes)"
   ]
  },
  {
   "cell_type": "markdown",
   "metadata": {
    "id": "E_ybuo5LI9Ej"
   },
   "source": [
    "#### Show visually the frequency distribution (histogram) of the employee dataset. In few words describe these histograms?"
   ]
  },
  {
   "cell_type": "code",
   "execution_count": 138,
   "metadata": {
    "id": "IYP7P2JeI9Ek"
   },
   "outputs": [],
   "source": [
    "# your answer here\n",
    "import matplotlib\n",
    "%matplotlib inline\n"
   ]
  },
  {
   "cell_type": "code",
   "execution_count": 139,
   "metadata": {
    "colab": {
     "base_uri": "https://localhost:8080/"
    },
    "executionInfo": {
     "elapsed": 604,
     "status": "ok",
     "timestamp": 1622667088199,
     "user": {
      "displayName": "irving palacios",
      "photoUrl": "https://lh3.googleusercontent.com/a-/AOh14Gjw6M4LpzTUVro1G-5_aqYZYQhXb8NkvR-4cdiB=s64",
      "userId": "06814234566595318222"
     },
     "user_tz": 300
    },
    "id": "Pye9oZuakd7j",
    "outputId": "65d30801-1571-4ec5-e983-f609878f57c5"
   },
   "outputs": [
    {
     "data": {
      "text/plain": [
       "array([[<AxesSubplot:title={'center':'Years'}>,\n",
       "        <AxesSubplot:title={'center':'Salary'}>]], dtype=object)"
      ]
     },
     "execution_count": 139,
     "metadata": {},
     "output_type": "execute_result"
    },
    {
     "data": {
      "image/png": "[encoded data removed]",
      "text/plain": [
       "<Figure size 432x288 with 2 Axes>"
      ]
     },
     "metadata": {
      "needs_background": "light"
     },
     "output_type": "display_data"
    }
   ],
   "source": [
    "employee.hist()"
   ]
  },
  {
   "cell_type": "markdown",
   "metadata": {
    "id": "tVPjt9nlI9Ek"
   },
   "source": [
    "#### What's the average salary in this company?"
   ]
  },
  {
   "cell_type": "code",
   "execution_count": 140,
   "metadata": {
    "colab": {
     "base_uri": "https://localhost:8080/"
    },
    "executionInfo": {
     "elapsed": 35,
     "status": "ok",
     "timestamp": 1622667088199,
     "user": {
      "displayName": "irving palacios",
      "photoUrl": "https://lh3.googleusercontent.com/a-/AOh14Gjw6M4LpzTUVro1G-5_aqYZYQhXb8NkvR-4cdiB=s64",
      "userId": "06814234566595318222"
     },
     "user_tz": 300
    },
    "id": "iXlaVEB9I9Ek",
    "outputId": "975154e8-b188-4367-c087-f31688b3be6d"
   },
   "outputs": [
    {
     "name": "stdout",
     "output_type": "stream",
     "text": [
      "48.888888888888886\n"
     ]
    }
   ],
   "source": [
    "# your answer here\n",
    "print(employee.Salary.mean())"
   ]
  },
  {
   "cell_type": "markdown",
   "metadata": {
    "id": "tfRZ_hnGI9Ek"
   },
   "source": [
    "#### What's the highest salary?"
   ]
  },
  {
   "cell_type": "code",
   "execution_count": 141,
   "metadata": {
    "colab": {
     "base_uri": "https://localhost:8080/"
    },
    "executionInfo": {
     "elapsed": 31,
     "status": "ok",
     "timestamp": 1622667088200,
     "user": {
      "displayName": "irving palacios",
      "photoUrl": "https://lh3.googleusercontent.com/a-/AOh14Gjw6M4LpzTUVro1G-5_aqYZYQhXb8NkvR-4cdiB=s64",
      "userId": "06814234566595318222"
     },
     "user_tz": 300
    },
    "id": "Q_Uk1wF-I9Ek",
    "outputId": "534c7162-254e-4dd7-c809-39c9e18d4d77"
   },
   "outputs": [
    {
     "name": "stdout",
     "output_type": "stream",
     "text": [
      "70\n"
     ]
    }
   ],
   "source": [
    "# your answer here\n",
    "print(employee.Salary.max())"
   ]
  },
  {
   "cell_type": "markdown",
   "metadata": {
    "id": "01yFF5XLI9Ek"
   },
   "source": [
    "#### What's the lowest salary?"
   ]
  },
  {
   "cell_type": "code",
   "execution_count": 142,
   "metadata": {
    "colab": {
     "base_uri": "https://localhost:8080/"
    },
    "executionInfo": {
     "elapsed": 27,
     "status": "ok",
     "timestamp": 1622667088201,
     "user": {
      "displayName": "irving palacios",
      "photoUrl": "https://lh3.googleusercontent.com/a-/AOh14Gjw6M4LpzTUVro1G-5_aqYZYQhXb8NkvR-4cdiB=s64",
      "userId": "06814234566595318222"
     },
     "user_tz": 300
    },
    "id": "P5CEnOdtI9El",
    "outputId": "d161baf6-3b9d-49d2-b827-0f8cfab7ce68"
   },
   "outputs": [
    {
     "name": "stdout",
     "output_type": "stream",
     "text": [
      "30\n"
     ]
    }
   ],
   "source": [
    "# your answer here\n",
    "print(employee.Salary.min())"
   ]
  },
  {
   "cell_type": "markdown",
   "metadata": {
    "id": "En2NvYiKI9El"
   },
   "source": [
    "#### Who are the employees with the lowest salary?"
   ]
  },
  {
   "cell_type": "code",
   "execution_count": 143,
   "metadata": {
    "colab": {
     "base_uri": "https://localhost:8080/"
    },
    "executionInfo": {
     "elapsed": 24,
     "status": "ok",
     "timestamp": 1622667088201,
     "user": {
      "displayName": "irving palacios",
      "photoUrl": "https://lh3.googleusercontent.com/a-/AOh14Gjw6M4LpzTUVro1G-5_aqYZYQhXb8NkvR-4cdiB=s64",
      "userId": "06814234566595318222"
     },
     "user_tz": 300
    },
    "id": "uD3NZYaZI9El",
    "outputId": "5455086d-b80f-4241-d62d-095c48bc529a"
   },
   "outputs": [
    {
     "name": "stdout",
     "output_type": "stream",
     "text": [
      "    Name Department Education Gender    Title  Years  Salary\n",
      "1  Maria         IT    Master      F  analyst      2      30\n",
      "2  David         HR    Master      M  analyst      2      30\n"
     ]
    }
   ],
   "source": [
    "# your answer here\n",
    "\n",
    "print(employee[employee['Salary']==employee['Salary'].min()])"
   ]
  },
  {
   "cell_type": "markdown",
   "metadata": {
    "id": "tZmTd8SiI9El"
   },
   "source": [
    "#### Could you give all the information about an employee called David?"
   ]
  },
  {
   "cell_type": "code",
   "execution_count": 144,
   "metadata": {
    "colab": {
     "base_uri": "https://localhost:8080/"
    },
    "executionInfo": {
     "elapsed": 22,
     "status": "ok",
     "timestamp": 1622667088202,
     "user": {
      "displayName": "irving palacios",
      "photoUrl": "https://lh3.googleusercontent.com/a-/AOh14Gjw6M4LpzTUVro1G-5_aqYZYQhXb8NkvR-4cdiB=s64",
      "userId": "06814234566595318222"
     },
     "user_tz": 300
    },
    "id": "fH9DAfz3I9El",
    "outputId": "b5e2bf87-5edd-4495-c5c9-a8cade8a277d"
   },
   "outputs": [
    {
     "name": "stdout",
     "output_type": "stream",
     "text": [
      "    Name Department Education Gender    Title  Years  Salary\n",
      "2  David         HR    Master      M  analyst      2      30\n"
     ]
    }
   ],
   "source": [
    "# your answer here\n",
    "print(employee[employee['Name']=='David'])"
   ]
  },
  {
   "cell_type": "markdown",
   "metadata": {
    "id": "32ELHwYjI9El"
   },
   "source": [
    "#### Could you give only David's salary?"
   ]
  },
  {
   "cell_type": "code",
   "execution_count": 145,
   "metadata": {
    "colab": {
     "base_uri": "https://localhost:8080/"
    },
    "executionInfo": {
     "elapsed": 22,
     "status": "ok",
     "timestamp": 1622667088204,
     "user": {
      "displayName": "irving palacios",
      "photoUrl": "https://lh3.googleusercontent.com/a-/AOh14Gjw6M4LpzTUVro1G-5_aqYZYQhXb8NkvR-4cdiB=s64",
      "userId": "06814234566595318222"
     },
     "user_tz": 300
    },
    "id": "5vbFUQxRI9El",
    "outputId": "61a8edb9-4613-423d-a53c-ad3312168875"
   },
   "outputs": [
    {
     "name": "stdout",
     "output_type": "stream",
     "text": [
      "2    30\n",
      "Name: Salary, dtype: int64\n"
     ]
    }
   ],
   "source": [
    "# your answer here\n",
    "print(employee[employee.Name == 'David']['Salary'])\n"
   ]
  },
  {
   "cell_type": "markdown",
   "metadata": {
    "id": "3u1qNagJI9Em"
   },
   "source": [
    "#### Print all the rows where job title is associate"
   ]
  },
  {
   "cell_type": "code",
   "execution_count": 146,
   "metadata": {
    "colab": {
     "base_uri": "https://localhost:8080/"
    },
    "executionInfo": {
     "elapsed": 19,
     "status": "ok",
     "timestamp": 1622667088204,
     "user": {
      "displayName": "irving palacios",
      "photoUrl": "https://lh3.googleusercontent.com/a-/AOh14Gjw6M4LpzTUVro1G-5_aqYZYQhXb8NkvR-4cdiB=s64",
      "userId": "06814234566595318222"
     },
     "user_tz": 300
    },
    "id": "rYj-7SsHI9Em",
    "outputId": "234b7155-1c4c-4aa0-ea89-d3542c5fe634"
   },
   "outputs": [
    {
     "name": "stdout",
     "output_type": "stream",
     "text": [
      "     Name Department Education Gender      Title  Years  Salary\n",
      "4  Samuel      Sales    Master      M  associate      3      55\n",
      "5     Eva      Sales  Bachelor      F  associate      2      55\n",
      "7   Pedro         IT       Phd      M  associate      7      60\n"
     ]
    }
   ],
   "source": [
    "# your answer here\n",
    "print(employee[employee.Title == 'associate'])"
   ]
  },
  {
   "cell_type": "markdown",
   "metadata": {
    "id": "yDECl4VoI9Em"
   },
   "source": [
    "#### Print the first 3 rows of your dataframe\n",
    "\n",
    "##### Tip : There are 2 ways to do it. Do it both ways"
   ]
  },
  {
   "cell_type": "code",
   "execution_count": 147,
   "metadata": {
    "colab": {
     "base_uri": "https://localhost:8080/"
    },
    "executionInfo": {
     "elapsed": 14,
     "status": "ok",
     "timestamp": 1622667088205,
     "user": {
      "displayName": "irving palacios",
      "photoUrl": "https://lh3.googleusercontent.com/a-/AOh14Gjw6M4LpzTUVro1G-5_aqYZYQhXb8NkvR-4cdiB=s64",
      "userId": "06814234566595318222"
     },
     "user_tz": 300
    },
    "id": "RM314uePI9Em",
    "outputId": "481194b0-17b2-4ee7-816f-1b8d6dd2e9ac"
   },
   "outputs": [
    {
     "name": "stdout",
     "output_type": "stream",
     "text": [
      "    Name Department Education Gender    Title  Years  Salary\n",
      "0   Jose         IT  Bachelor      M  analyst      1      35\n",
      "1  Maria         IT    Master      F  analyst      2      30\n",
      "2  David         HR    Master      M  analyst      2      30\n"
     ]
    }
   ],
   "source": [
    "# your answer here- 1 method\n",
    "print(employee[0:3])"
   ]
  },
  {
   "cell_type": "code",
   "execution_count": 148,
   "metadata": {
    "colab": {
     "base_uri": "https://localhost:8080/"
    },
    "executionInfo": {
     "elapsed": 250,
     "status": "ok",
     "timestamp": 1622667088445,
     "user": {
      "displayName": "irving palacios",
      "photoUrl": "https://lh3.googleusercontent.com/a-/AOh14Gjw6M4LpzTUVro1G-5_aqYZYQhXb8NkvR-4cdiB=s64",
      "userId": "06814234566595318222"
     },
     "user_tz": 300
    },
    "id": "4nZKnaneI9Em",
    "outputId": "a4c5cbbd-b1f9-4535-9907-b3a585949d4f"
   },
   "outputs": [
    {
     "name": "stdout",
     "output_type": "stream",
     "text": [
      "    Name Department Education Gender    Title  Years  Salary\n",
      "0   Jose         IT  Bachelor      M  analyst      1      35\n",
      "1  Maria         IT    Master      F  analyst      2      30\n",
      "2  David         HR    Master      M  analyst      2      30\n"
     ]
    }
   ],
   "source": [
    "# your answer here- 2nd method\n",
    "print(employee.iloc[0:3,:])\n"
   ]
  },
  {
   "cell_type": "markdown",
   "metadata": {
    "id": "q-0iZPWCI9Em"
   },
   "source": [
    "#### Find the employees who's title is associate and the salary above 55?"
   ]
  },
  {
   "cell_type": "code",
   "execution_count": 149,
   "metadata": {
    "colab": {
     "base_uri": "https://localhost:8080/"
    },
    "executionInfo": {
     "elapsed": 18,
     "status": "ok",
     "timestamp": 1622667088445,
     "user": {
      "displayName": "irving palacios",
      "photoUrl": "https://lh3.googleusercontent.com/a-/AOh14Gjw6M4LpzTUVro1G-5_aqYZYQhXb8NkvR-4cdiB=s64",
      "userId": "06814234566595318222"
     },
     "user_tz": 300
    },
    "id": "E_0B-KBtI9En",
    "outputId": "bc62ec5a-d479-4532-d1e3-f926134ca9f7"
   },
   "outputs": [
    {
     "name": "stdout",
     "output_type": "stream",
     "text": [
      "    Name Department Education Gender      Title  Years  Salary\n",
      "7  Pedro         IT       Phd      M  associate      7      60\n"
     ]
    }
   ],
   "source": [
    "# your answer here\n",
    "employee2 = employee[(employee.Title == 'associate')&(employee.Salary > 55)]\n",
    "print(employee2)"
   ]
  },
  {
   "cell_type": "markdown",
   "metadata": {
    "id": "VUwSVZQYI9En"
   },
   "source": [
    "#### Group the employees based on their number of years of employment. What are the average salaries in each group?"
   ]
  },
  {
   "cell_type": "code",
   "execution_count": 150,
   "metadata": {
    "colab": {
     "base_uri": "https://localhost:8080/"
    },
    "executionInfo": {
     "elapsed": 14,
     "status": "ok",
     "timestamp": 1622667088445,
     "user": {
      "displayName": "irving palacios",
      "photoUrl": "https://lh3.googleusercontent.com/a-/AOh14Gjw6M4LpzTUVro1G-5_aqYZYQhXb8NkvR-4cdiB=s64",
      "userId": "06814234566595318222"
     },
     "user_tz": 300
    },
    "id": "ttxMS-9oI9En",
    "outputId": "f932a057-aeeb-49be-aaf0-8d79a0803fac"
   },
   "outputs": [
    {
     "name": "stdout",
     "output_type": "stream",
     "text": [
      "   Years     Salary\n",
      "0      1  35.000000\n",
      "1      2  38.333333\n",
      "2      3  55.000000\n",
      "3      4  35.000000\n",
      "4      7  60.000000\n",
      "5      8  70.000000\n"
     ]
    }
   ],
   "source": [
    "# your answer here\n",
    "\n",
    "avg_employee_salary = employee.groupby(\"Years\", as_index=False).agg({\"Salary\":\"mean\"})\n",
    "\n",
    "print(avg_employee_salary)"
   ]
  },
  {
   "cell_type": "markdown",
   "metadata": {
    "id": "oAjsMWCCI9En"
   },
   "source": [
    "####  What is the average Salary per title?"
   ]
  },
  {
   "cell_type": "code",
   "execution_count": 151,
   "metadata": {
    "colab": {
     "base_uri": "https://localhost:8080/"
    },
    "executionInfo": {
     "elapsed": 12,
     "status": "ok",
     "timestamp": 1622667088446,
     "user": {
      "displayName": "irving palacios",
      "photoUrl": "https://lh3.googleusercontent.com/a-/AOh14Gjw6M4LpzTUVro1G-5_aqYZYQhXb8NkvR-4cdiB=s64",
      "userId": "06814234566595318222"
     },
     "user_tz": 300
    },
    "id": "3yteHm0dI9En",
    "outputId": "0e5b5405-b94a-4602-ae62-3d56b970c222"
   },
   "outputs": [
    {
     "name": "stdout",
     "output_type": "stream",
     "text": [
      "       Title     Salary\n",
      "0         VP  70.000000\n",
      "1    analyst  32.500000\n",
      "2  associate  56.666667\n"
     ]
    }
   ],
   "source": [
    "# your answer here\n",
    "\n",
    "avg_title_salary = employee.groupby(\"Title\", as_index=False).agg({\"Salary\":\"mean\"})\n",
    "\n",
    "print(avg_title_salary)"
   ]
  },
  {
   "cell_type": "markdown",
   "metadata": {
    "id": "VolCzxepI9En"
   },
   "source": [
    "#### Show a visual summary of the data using boxplot. What Are the First and Third Quartiles? Comment your results.\n",
    "##### * Hint : Quantiles vs Quartiles*\n",
    "##### - `In Probability and Statistics, quantiles are cut points dividing the range of a probability distribution into continuous intervals with equal probabilities. When division is into four parts the values of the variate corresponding to 25%, 50% and 75% of the total distribution are called quartiles.`"
   ]
  },
  {
   "cell_type": "code",
   "execution_count": 152,
   "metadata": {
    "id": "e-nsdmPCI9Eo"
   },
   "outputs": [],
   "source": [
    "# draw boxplot here"
   ]
  },
  {
   "cell_type": "code",
   "execution_count": 153,
   "metadata": {
    "colab": {
     "base_uri": "https://localhost:8080/"
    },
    "executionInfo": {
     "elapsed": 269,
     "status": "ok",
     "timestamp": 1622667088709,
     "user": {
      "displayName": "irving palacios",
      "photoUrl": "https://lh3.googleusercontent.com/a-/AOh14Gjw6M4LpzTUVro1G-5_aqYZYQhXb8NkvR-4cdiB=s64",
      "userId": "06814234566595318222"
     },
     "user_tz": 300
    },
    "id": "WIvnUvQc5sfT",
    "outputId": "fa4d35c3-b745-4441-e252-491edf21db7c"
   },
   "outputs": [
    {
     "data": {
      "text/plain": [
       "<AxesSubplot:>"
      ]
     },
     "execution_count": 153,
     "metadata": {},
     "output_type": "execute_result"
    },
    {
     "data": {
      "image/png": "[encoded data removed]",
      "text/plain": [
       "<Figure size 432x288 with 1 Axes>"
      ]
     },
     "metadata": {
      "needs_background": "light"
     },
     "output_type": "display_data"
    }
   ],
   "source": [
    "employee.boxplot()"
   ]
  },
  {
   "cell_type": "code",
   "execution_count": 154,
   "metadata": {
    "colab": {
     "base_uri": "https://localhost:8080/"
    },
    "executionInfo": {
     "elapsed": 19,
     "status": "ok",
     "timestamp": 1622667088710,
     "user": {
      "displayName": "irving palacios",
      "photoUrl": "https://lh3.googleusercontent.com/a-/AOh14Gjw6M4LpzTUVro1G-5_aqYZYQhXb8NkvR-4cdiB=s64",
      "userId": "06814234566595318222"
     },
     "user_tz": 300
    },
    "id": "Te2z3JYhI9Eo",
    "outputId": "7850d117-5a46-44c5-c3d5-f645e7b33644"
   },
   "outputs": [
    {
     "name": "stdout",
     "output_type": "stream",
     "text": [
      "Years      2.0\n",
      "Salary    35.0\n",
      "Name: 0.25, dtype: float64\n"
     ]
    }
   ],
   "source": [
    "# print first quartile here\n",
    "print(employee.quantile(0.25))\n"
   ]
  },
  {
   "cell_type": "code",
   "execution_count": 155,
   "metadata": {
    "colab": {
     "base_uri": "https://localhost:8080/"
    },
    "executionInfo": {
     "elapsed": 14,
     "status": "ok",
     "timestamp": 1622667088710,
     "user": {
      "displayName": "irving palacios",
      "photoUrl": "https://lh3.googleusercontent.com/a-/AOh14Gjw6M4LpzTUVro1G-5_aqYZYQhXb8NkvR-4cdiB=s64",
      "userId": "06814234566595318222"
     },
     "user_tz": 300
    },
    "id": "SwfNmp0YI9Eo",
    "outputId": "81d5bed4-05d4-4fab-a61c-cf84d0bb4693"
   },
   "outputs": [
    {
     "name": "stdout",
     "output_type": "stream",
     "text": [
      "Years      7.0\n",
      "Salary    60.0\n",
      "Name: 0.75, dtype: float64\n"
     ]
    }
   ],
   "source": [
    "# print third quartile here\n",
    "print(employee.quantile(0.75))\n"
   ]
  },
  {
   "cell_type": "markdown",
   "metadata": {
    "id": "FZ-_TDFGI9Eo"
   },
   "source": [
    "#### Is the mean salary per gender different?"
   ]
  },
  {
   "cell_type": "code",
   "execution_count": 156,
   "metadata": {
    "colab": {
     "base_uri": "https://localhost:8080/"
    },
    "executionInfo": {
     "elapsed": 13,
     "status": "ok",
     "timestamp": 1622667088711,
     "user": {
      "displayName": "irving palacios",
      "photoUrl": "https://lh3.googleusercontent.com/a-/AOh14Gjw6M4LpzTUVro1G-5_aqYZYQhXb8NkvR-4cdiB=s64",
      "userId": "06814234566595318222"
     },
     "user_tz": 300
    },
    "id": "n_DhKlSMI9Eo",
    "outputId": "48dbfc76-cdfa-4b52-fd4a-283883764221"
   },
   "outputs": [
    {
     "name": "stdout",
     "output_type": "stream",
     "text": [
      "  Gender  Salary\n",
      "0      F    47.5\n",
      "1      M    50.0\n"
     ]
    }
   ],
   "source": [
    "# your answer here\n",
    "avg_gender_salary = employee.groupby(\"Gender\", as_index=False).agg({\"Salary\":\"mean\"})\n",
    "\n",
    "print(avg_gender_salary)"
   ]
  },
  {
   "cell_type": "markdown",
   "metadata": {
    "id": "SO-apEX3I9Eo"
   },
   "source": [
    "#### Find the minimum, mean and the maximum of all numeric columns for each Department.\n",
    "\n",
    "##### Hint: Use functions from Data Manipulation lesson"
   ]
  },
  {
   "cell_type": "code",
   "execution_count": 157,
   "metadata": {
    "colab": {
     "base_uri": "https://localhost:8080/"
    },
    "executionInfo": {
     "elapsed": 11,
     "status": "ok",
     "timestamp": 1622667088711,
     "user": {
      "displayName": "irving palacios",
      "photoUrl": "https://lh3.googleusercontent.com/a-/AOh14Gjw6M4LpzTUVro1G-5_aqYZYQhXb8NkvR-4cdiB=s64",
      "userId": "06814234566595318222"
     },
     "user_tz": 300
    },
    "id": "YxTuEOiLI9Eo",
    "outputId": "ded72683-8ce3-4627-cd96-927214b7ebc9"
   },
   "outputs": [
    {
     "name": "stdout",
     "output_type": "stream",
     "text": [
      "  Department Salary             Years        \n",
      "               mean min max      mean min max\n",
      "0         HR  45.00  30  70  4.666667   2   8\n",
      "1         IT  48.75  30  70  4.500000   1   8\n",
      "2      Sales  55.00  55  55  2.500000   2   3\n"
     ]
    }
   ],
   "source": [
    "# your answer here\n",
    "\n",
    "department_measures = employee.groupby(\"Department\", as_index=False).agg({\"Salary\":[\"mean\",\"min\",\"max\"],\"Years\":[\"mean\",\"min\",\"max\"]})\n",
    "\n",
    "print(department_measures)"
   ]
  },
  {
   "cell_type": "markdown",
   "metadata": {
    "id": "NNO6opmeI9Ep"
   },
   "source": [
    "### Bonus Question\n",
    "\n",
    "#### For each department, compute the difference between the maximal salary and the minimal salary.\n",
    "\n",
    "##### * Hint: try using `agg` or `apply` and `lambda`*"
   ]
  },
  {
   "cell_type": "code",
   "execution_count": 158,
   "metadata": {
    "id": "eOqPTGGbI9Ep"
   },
   "outputs": [],
   "source": [
    "# your answer here\n",
    "\n",
    "dpt_max= employee.groupby(\"Department\", as_index=False).agg({\"Salary\":\"max\"})\n",
    "dpt_min= employee.groupby(\"Department\", as_index=False).agg({\"Salary\":\"min\"})\n",
    "\n",
    "\n",
    "diff = dpt_max.merge(dpt_min, on=\"Department\")\n",
    "\n",
    "\n",
    "diff[\"Difference\"] = diff[\"Salary_x\"]-diff[\"Salary_y\"]\n",
    "\n"
   ]
  },
  {
   "cell_type": "code",
   "execution_count": 159,
   "metadata": {
    "colab": {
     "base_uri": "https://localhost:8080/"
    },
    "executionInfo": {
     "elapsed": 10,
     "status": "ok",
     "timestamp": 1622667088712,
     "user": {
      "displayName": "irving palacios",
      "photoUrl": "https://lh3.googleusercontent.com/a-/AOh14Gjw6M4LpzTUVro1G-5_aqYZYQhXb8NkvR-4cdiB=s64",
      "userId": "06814234566595318222"
     },
     "user_tz": 300
    },
    "id": "YDqKGS1aXEc0",
    "outputId": "e4e11ba9-b3f2-4efa-854a-9ed7fd5b10a7"
   },
   "outputs": [
    {
     "name": "stdout",
     "output_type": "stream",
     "text": [
      "  Department  Max  Min  Difference\n",
      "0         HR   70   30          40\n",
      "1         IT   70   30          40\n",
      "2      Sales   55   55           0\n"
     ]
    }
   ],
   "source": [
    "diff=diff.rename(columns={\"Salary_x\":\"Max\",\"Salary_y\":\"Min\"})\n",
    "print(diff)"
   ]
  },
  {
   "cell_type": "markdown",
   "metadata": {
    "id": "_4Ja-yGkI9Ep"
   },
   "source": [
    "# Challenge 3"
   ]
  },
  {
   "cell_type": "markdown",
   "metadata": {
    "id": "D2IdKgN9I9Et"
   },
   "source": [
    "#### Open the Orders.csv dataset. Name your dataset orders"
   ]
  },
  {
   "cell_type": "code",
   "execution_count": 160,
   "metadata": {
    "id": "HWQTqdsNI9Et"
   },
   "outputs": [],
   "source": [
    "# your answer here\n",
    "orders = pd.read_csv('Orders.zip')"
   ]
  },
  {
   "cell_type": "markdown",
   "metadata": {
    "id": "QAydA80II9Eu"
   },
   "source": [
    "#### Explore your dataset by looking at the data types and the summary statistics. Comment your results"
   ]
  },
  {
   "cell_type": "code",
   "execution_count": 161,
   "metadata": {
    "colab": {
     "base_uri": "https://localhost:8080/"
    },
    "executionInfo": {
     "elapsed": 11,
     "status": "ok",
     "timestamp": 1622667089746,
     "user": {
      "displayName": "irving palacios",
      "photoUrl": "https://lh3.googleusercontent.com/a-/AOh14Gjw6M4LpzTUVro1G-5_aqYZYQhXb8NkvR-4cdiB=s64",
      "userId": "06814234566595318222"
     },
     "user_tz": 300
    },
    "id": "Hyme28SpewfD",
    "outputId": "2cd62e03-736e-43e6-aaf8-c03d0f114a93"
   },
   "outputs": [
    {
     "name": "stdout",
     "output_type": "stream",
     "text": [
      "   Unnamed: 0  InvoiceNo StockCode  year  month  day  hour  \\\n",
      "0           0     536365    85123A  2010     12    3     8   \n",
      "1           1     536365     71053  2010     12    3     8   \n",
      "2           2     536365    84406B  2010     12    3     8   \n",
      "3           3     536365    84029G  2010     12    3     8   \n",
      "4           4     536365    84029E  2010     12    3     8   \n",
      "5           5     536365     22752  2010     12    3     8   \n",
      "6           6     536365     21730  2010     12    3     8   \n",
      "7           7     536366     22633  2010     12    3     8   \n",
      "8           8     536366     22632  2010     12    3     8   \n",
      "9           9     536367     84879  2010     12    3     8   \n",
      "\n",
      "                           Description  Quantity          InvoiceDate  \\\n",
      "0   white hanging heart t-light holder         6  2010-12-01 08:26:00   \n",
      "1                  white metal lantern         6  2010-12-01 08:26:00   \n",
      "2       cream cupid hearts coat hanger         8  2010-12-01 08:26:00   \n",
      "3  knitted union flag hot water bottle         6  2010-12-01 08:26:00   \n",
      "4       red woolly hottie white heart.         6  2010-12-01 08:26:00   \n",
      "5         set 7 babushka nesting boxes         2  2010-12-01 08:26:00   \n",
      "6    glass star frosted t-light holder         6  2010-12-01 08:26:00   \n",
      "7               hand warmer union jack         6  2010-12-01 08:28:00   \n",
      "8            hand warmer red polka dot         6  2010-12-01 08:28:00   \n",
      "9        assorted colour bird ornament        32  2010-12-01 08:34:00   \n",
      "\n",
      "   UnitPrice  CustomerID         Country  amount_spent  \n",
      "0       2.55       17850  United Kingdom         15.30  \n",
      "1       3.39       17850  United Kingdom         20.34  \n",
      "2       2.75       17850  United Kingdom         22.00  \n",
      "3       3.39       17850  United Kingdom         20.34  \n",
      "4       3.39       17850  United Kingdom         20.34  \n",
      "5       7.65       17850  United Kingdom         15.30  \n",
      "6       4.25       17850  United Kingdom         25.50  \n",
      "7       1.85       17850  United Kingdom         11.10  \n",
      "8       1.85       17850  United Kingdom         11.10  \n",
      "9       1.69       13047  United Kingdom         54.08  \n"
     ]
    }
   ],
   "source": [
    "print(orders.head(10))"
   ]
  },
  {
   "cell_type": "code",
   "execution_count": 162,
   "metadata": {
    "colab": {
     "base_uri": "https://localhost:8080/"
    },
    "executionInfo": {
     "elapsed": 10,
     "status": "ok",
     "timestamp": 1622667089746,
     "user": {
      "displayName": "irving palacios",
      "photoUrl": "https://lh3.googleusercontent.com/a-/AOh14Gjw6M4LpzTUVro1G-5_aqYZYQhXb8NkvR-4cdiB=s64",
      "userId": "06814234566595318222"
     },
     "user_tz": 300
    },
    "id": "QAkTnOjQI9Eu",
    "outputId": "3c3b2009-b255-4d5f-abcb-eab81b46c7ad"
   },
   "outputs": [
    {
     "data": {
      "text/plain": [
       "Unnamed: 0        int64\n",
       "InvoiceNo         int64\n",
       "StockCode        object\n",
       "year              int64\n",
       "month             int64\n",
       "day               int64\n",
       "hour              int64\n",
       "Description      object\n",
       "Quantity          int64\n",
       "InvoiceDate      object\n",
       "UnitPrice       float64\n",
       "CustomerID        int64\n",
       "Country          object\n",
       "amount_spent    float64\n",
       "dtype: object"
      ]
     },
     "execution_count": 162,
     "metadata": {},
     "output_type": "execute_result"
    }
   ],
   "source": [
    "# your answer here\n",
    "orders.dtypes"
   ]
  },
  {
   "cell_type": "code",
   "execution_count": 163,
   "metadata": {
    "colab": {
     "base_uri": "https://localhost:8080/"
    },
    "executionInfo": {
     "elapsed": 350,
     "status": "ok",
     "timestamp": 1622667090090,
     "user": {
      "displayName": "irving palacios",
      "photoUrl": "https://lh3.googleusercontent.com/a-/AOh14Gjw6M4LpzTUVro1G-5_aqYZYQhXb8NkvR-4cdiB=s64",
      "userId": "06814234566595318222"
     },
     "user_tz": 300
    },
    "id": "af43TaWwI9Ev",
    "outputId": "fe9e9751-43ce-41b4-9334-f6c1437058ba"
   },
   "outputs": [
    {
     "name": "stdout",
     "output_type": "stream",
     "text": [
      "          Unnamed: 0      InvoiceNo           year          month  \\\n",
      "count  397924.000000  397924.000000  397924.000000  397924.000000   \n",
      "mean   278465.221859  560617.126645    2010.934259       7.612537   \n",
      "std    152771.368303   13106.167695       0.247829       3.416527   \n",
      "min         0.000000  536365.000000    2010.000000       1.000000   \n",
      "25%    148333.750000  549234.000000    2011.000000       5.000000   \n",
      "50%    284907.500000  561893.000000    2011.000000       8.000000   \n",
      "75%    410079.250000  572090.000000    2011.000000      11.000000   \n",
      "max    541908.000000  581587.000000    2011.000000      12.000000   \n",
      "\n",
      "                 day           hour       Quantity      UnitPrice  \\\n",
      "count  397924.000000  397924.000000  397924.000000  397924.000000   \n",
      "mean        3.614555      12.728247      13.021823       3.116174   \n",
      "std         1.928274       2.273535     180.420210      22.096788   \n",
      "min         1.000000       6.000000       1.000000       0.000000   \n",
      "25%         2.000000      11.000000       2.000000       1.250000   \n",
      "50%         3.000000      13.000000       6.000000       1.950000   \n",
      "75%         5.000000      14.000000      12.000000       3.750000   \n",
      "max         7.000000      20.000000   80995.000000    8142.750000   \n",
      "\n",
      "          CustomerID   amount_spent  \n",
      "count  397924.000000  397924.000000  \n",
      "mean    15294.315171      22.394749  \n",
      "std      1713.169877     309.055588  \n",
      "min     12346.000000       0.000000  \n",
      "25%     13969.000000       4.680000  \n",
      "50%     15159.000000      11.800000  \n",
      "75%     16795.000000      19.800000  \n",
      "max     18287.000000  168469.600000  \n"
     ]
    }
   ],
   "source": [
    "# your answer here\n",
    "print(orders.describe())"
   ]
  },
  {
   "cell_type": "markdown",
   "metadata": {
    "id": "_-ceG_udI9Ev"
   },
   "source": [
    "####  What is the average Purchase Price?"
   ]
  },
  {
   "cell_type": "code",
   "execution_count": 164,
   "metadata": {
    "colab": {
     "base_uri": "https://localhost:8080/"
    },
    "executionInfo": {
     "elapsed": 24,
     "status": "ok",
     "timestamp": 1622667090091,
     "user": {
      "displayName": "irving palacios",
      "photoUrl": "https://lh3.googleusercontent.com/a-/AOh14Gjw6M4LpzTUVro1G-5_aqYZYQhXb8NkvR-4cdiB=s64",
      "userId": "06814234566595318222"
     },
     "user_tz": 300
    },
    "id": "AIvIqLffI9Ew",
    "outputId": "f64c0bed-3b5a-413d-d92f-7eac882fbe76"
   },
   "outputs": [
    {
     "name": "stdout",
     "output_type": "stream",
     "text": [
      "3.116174480549152\n"
     ]
    }
   ],
   "source": [
    "# your answer here\n",
    "\n",
    "print(orders.UnitPrice.mean())"
   ]
  },
  {
   "cell_type": "markdown",
   "metadata": {
    "id": "edDqZux1I9Ew"
   },
   "source": [
    "#### What were the highest and lowest purchase prices? "
   ]
  },
  {
   "cell_type": "code",
   "execution_count": 165,
   "metadata": {
    "colab": {
     "base_uri": "https://localhost:8080/"
    },
    "executionInfo": {
     "elapsed": 23,
     "status": "ok",
     "timestamp": 1622667090091,
     "user": {
      "displayName": "irving palacios",
      "photoUrl": "https://lh3.googleusercontent.com/a-/AOh14Gjw6M4LpzTUVro1G-5_aqYZYQhXb8NkvR-4cdiB=s64",
      "userId": "06814234566595318222"
     },
     "user_tz": 300
    },
    "id": "xJygNTKSI9Ew",
    "outputId": "cd9ac9a5-8c05-470c-895d-afbe8639edd7"
   },
   "outputs": [
    {
     "name": "stdout",
     "output_type": "stream",
     "text": [
      "0.0\n"
     ]
    }
   ],
   "source": [
    "# your answer here\n",
    "print(orders.UnitPrice.min())"
   ]
  },
  {
   "cell_type": "code",
   "execution_count": 166,
   "metadata": {
    "colab": {
     "base_uri": "https://localhost:8080/"
    },
    "executionInfo": {
     "elapsed": 21,
     "status": "ok",
     "timestamp": 1622667090092,
     "user": {
      "displayName": "irving palacios",
      "photoUrl": "https://lh3.googleusercontent.com/a-/AOh14Gjw6M4LpzTUVro1G-5_aqYZYQhXb8NkvR-4cdiB=s64",
      "userId": "06814234566595318222"
     },
     "user_tz": 300
    },
    "id": "ctpSy1ZcI9Ew",
    "outputId": "930830c3-30db-4269-f78b-93a491a7c9da"
   },
   "outputs": [
    {
     "name": "stdout",
     "output_type": "stream",
     "text": [
      "8142.75\n"
     ]
    }
   ],
   "source": [
    "# your answer here\n",
    "print(orders.UnitPrice.max())"
   ]
  },
  {
   "cell_type": "markdown",
   "metadata": {
    "id": "iD63meqVI9Ex"
   },
   "source": [
    "#### Select all the customers we have in Spain"
   ]
  },
  {
   "cell_type": "code",
   "execution_count": 167,
   "metadata": {
    "colab": {
     "base_uri": "https://localhost:8080/"
    },
    "executionInfo": {
     "elapsed": 17,
     "status": "ok",
     "timestamp": 1622667090092,
     "user": {
      "displayName": "irving palacios",
      "photoUrl": "https://lh3.googleusercontent.com/a-/AOh14Gjw6M4LpzTUVro1G-5_aqYZYQhXb8NkvR-4cdiB=s64",
      "userId": "06814234566595318222"
     },
     "user_tz": 300
    },
    "id": "Rqp-N4rzI9Ex",
    "outputId": "fe10a6f7-db16-4e29-b005-8a5a984ed405"
   },
   "outputs": [
    {
     "data": {
      "text/plain": [
       "array([12557, 17097, 12540, 12551, 12484, 12539, 12510, 12421, 12502,\n",
       "       12462, 12507, 12541, 12547, 12597, 12545, 12596, 12354, 12417,\n",
       "       12455, 12450, 12548, 12556, 12550, 12546, 12454, 12448, 12544,\n",
       "       12538, 12445, 12442])"
      ]
     },
     "execution_count": 167,
     "metadata": {},
     "output_type": "execute_result"
    }
   ],
   "source": [
    "# your answer here\n",
    "\n",
    "customers = orders[orders[\"Country\"]=='Spain']['CustomerID'].unique()\n",
    "customers"
   ]
  },
  {
   "cell_type": "markdown",
   "metadata": {
    "id": "5dCr8qnlI9Ex"
   },
   "source": [
    "#### How many customers do we have in Spain?\n",
    "##### Hint : Use value_counts()"
   ]
  },
  {
   "cell_type": "code",
   "execution_count": 168,
   "metadata": {
    "colab": {
     "base_uri": "https://localhost:8080/"
    },
    "executionInfo": {
     "elapsed": 14,
     "status": "ok",
     "timestamp": 1622667090092,
     "user": {
      "displayName": "irving palacios",
      "photoUrl": "https://lh3.googleusercontent.com/a-/AOh14Gjw6M4LpzTUVro1G-5_aqYZYQhXb8NkvR-4cdiB=s64",
      "userId": "06814234566595318222"
     },
     "user_tz": 300
    },
    "id": "fUr0AHhGI9Ex",
    "outputId": "17baee5d-b439-473b-d20a-f087fe06e21c"
   },
   "outputs": [
    {
     "name": "stdout",
     "output_type": "stream",
     "text": [
      "12540    478\n",
      "12484    346\n",
      "12539    273\n",
      "17097    211\n",
      "12597    206\n",
      "12502    147\n",
      "12556    121\n",
      "12546     69\n",
      "12462     62\n",
      "12354     58\n",
      "12550     57\n",
      "12541     52\n",
      "12545     50\n",
      "12455     48\n",
      "12421     45\n",
      "12510     33\n",
      "12557     33\n",
      "12596     27\n",
      "12417     23\n",
      "12507     22\n",
      "12448     22\n",
      "12538     21\n",
      "12544     19\n",
      "12454     15\n",
      "12442     12\n",
      "12551     10\n",
      "12547      8\n",
      "12450      8\n",
      "12548      5\n",
      "12445      4\n",
      "Name: CustomerID, dtype: int64\n",
      "\n",
      "\n",
      "And there are 30 customers.\n"
     ]
    }
   ],
   "source": [
    "# your answer here\n",
    "customers=orders[orders[\"Country\"]==\"Spain\"][\"CustomerID\"].value_counts()\n",
    "print(customers)\n",
    "print(\"\\n\\nAnd there are\", len(customers),\"customers.\")"
   ]
  },
  {
   "cell_type": "markdown",
   "metadata": {
    "id": "fKjqr85bI9Ex"
   },
   "source": [
    "#### Select all the customers who have bought more than 50 items ?"
   ]
  },
  {
   "cell_type": "code",
   "execution_count": 169,
   "metadata": {
    "colab": {
     "base_uri": "https://localhost:8080/"
    },
    "executionInfo": {
     "elapsed": 12,
     "status": "ok",
     "timestamp": 1622667090093,
     "user": {
      "displayName": "irving palacios",
      "photoUrl": "https://lh3.googleusercontent.com/a-/AOh14Gjw6M4LpzTUVro1G-5_aqYZYQhXb8NkvR-4cdiB=s64",
      "userId": "06814234566595318222"
     },
     "user_tz": 300
    },
    "id": "Qh3KdPP7I9Ey",
    "outputId": "77535cec-7156-4b57-e4e9-d3a705ef863b"
   },
   "outputs": [
    {
     "name": "stdout",
     "output_type": "stream",
     "text": [
      "   CustomerID  Quantity\n",
      "0       12346     74215\n",
      "1       12347      2458\n",
      "2       12348      2341\n",
      "3       12349       631\n",
      "4       12350       197\n"
     ]
    }
   ],
   "source": [
    "# your answer here\n",
    "fifthy_items = orders.groupby(\"CustomerID\", as_index=False).agg({'Quantity':\"sum\"})\n",
    "\n",
    "\n",
    "\n",
    "print(fifthy_items[fifthy_items['Quantity']>50].head())\n"
   ]
  },
  {
   "cell_type": "markdown",
   "metadata": {
    "id": "vecjdDv9I9Ey"
   },
   "source": [
    "#### Select orders from Spain that are above 50 items"
   ]
  },
  {
   "cell_type": "code",
   "execution_count": 170,
   "metadata": {
    "id": "FfClOClDI9Ey"
   },
   "outputs": [
    {
     "name": "stdout",
     "output_type": "stream",
     "text": [
      "      Unnamed: 0  InvoiceNo StockCode  year  month  day  hour  \\\n",
      "4250        6421     536944     22383  2010     12    5    12   \n",
      "4251        6422     536944     22384  2010     12    5    12   \n",
      "4252        6423     536944     20727  2010     12    5    12   \n",
      "4253        6424     536944     20725  2010     12    5    12   \n",
      "4254        6425     536944     20728  2010     12    5    12   \n",
      "\n",
      "                  Description  Quantity          InvoiceDate  UnitPrice  \\\n",
      "4250  lunch bag suki  design         70  2010-12-03 12:20:00       1.65   \n",
      "4251  lunch bag pink polkadot       100  2010-12-03 12:20:00       1.45   \n",
      "4252  lunch bag  black skull.        60  2010-12-03 12:20:00       1.65   \n",
      "4253  lunch bag red retrospot        70  2010-12-03 12:20:00       1.65   \n",
      "4254      lunch bag cars blue       100  2010-12-03 12:20:00       1.45   \n",
      "\n",
      "      CustomerID Country  amount_spent  \n",
      "4250       12557   Spain         115.5  \n",
      "4251       12557   Spain         145.0  \n",
      "4252       12557   Spain          99.0  \n",
      "4253       12557   Spain         115.5  \n",
      "4254       12557   Spain         145.0  \n"
     ]
    }
   ],
   "source": [
    "# your answer here\n",
    "print(orders[(orders.Country=='Spain')&(orders.Quantity>50)].head())"
   ]
  },
  {
   "cell_type": "markdown",
   "metadata": {
    "id": "MsH1eMgmI9Ey"
   },
   "source": [
    "#### Select all free orders"
   ]
  },
  {
   "cell_type": "code",
   "execution_count": 171,
   "metadata": {
    "id": "GSNi3CteI9Ey"
   },
   "outputs": [
    {
     "name": "stdout",
     "output_type": "stream",
     "text": [
      "       Unnamed: 0  InvoiceNo StockCode  year  month  day  hour  \\\n",
      "6914         9302     537197     22841  2010     12    7    14   \n",
      "22539       33576     539263     22580  2010     12    4    14   \n",
      "25379       40089     539722     22423  2010     12    2    13   \n",
      "29080       47068     540372     22090  2011      1    4    16   \n",
      "29082       47070     540372     22553  2011      1    4    16   \n",
      "34494       56674     541109     22168  2011      1    4    15   \n",
      "53788       86789     543599    84535B  2011      2    4    13   \n",
      "85671      130188     547417     22062  2011      3    3    10   \n",
      "92875      139453     548318     22055  2011      3    3    12   \n",
      "97430      145208     548871     22162  2011      4    1    14   \n",
      "\n",
      "                               Description  Quantity          InvoiceDate  \\\n",
      "6914          round cake tin vintage green         1  2010-12-05 14:02:00   \n",
      "22539         advent calendar gingham sack         4  2010-12-16 14:36:00   \n",
      "25379             regency cakestand 3 tier        10  2010-12-21 13:45:00   \n",
      "29080              paper bunting retrospot        24  2011-01-06 16:41:00   \n",
      "29082               plasters in tin skulls        24  2011-01-06 16:41:00   \n",
      "34494        organiser wood antique white          1  2011-01-13 15:10:00   \n",
      "53788         fairy cakes notebook a6 size        16  2011-02-10 13:08:00   \n",
      "85671  ceramic bowl with love heart design        36  2011-03-23 10:25:00   \n",
      "92875   mini cake stand  hanging strawbery         5  2011-03-30 12:45:00   \n",
      "97430          heart garland rustic padded         2  2011-04-04 14:42:00   \n",
      "\n",
      "       UnitPrice  CustomerID         Country  amount_spent  \n",
      "6914         0.0       12647         Germany           0.0  \n",
      "22539        0.0       16560  United Kingdom           0.0  \n",
      "25379        0.0       14911            EIRE           0.0  \n",
      "29080        0.0       13081  United Kingdom           0.0  \n",
      "29082        0.0       13081  United Kingdom           0.0  \n",
      "34494        0.0       15107  United Kingdom           0.0  \n",
      "53788        0.0       17560  United Kingdom           0.0  \n",
      "85671        0.0       13239  United Kingdom           0.0  \n",
      "92875        0.0       13113  United Kingdom           0.0  \n",
      "97430        0.0       14410  United Kingdom           0.0  \n"
     ]
    }
   ],
   "source": [
    "# your answer here\n",
    "print(orders[orders['UnitPrice']==0].head(10))\n"
   ]
  },
  {
   "cell_type": "markdown",
   "metadata": {
    "id": "VPFiZvp4I9Ey"
   },
   "source": [
    "#### Select all orders that are 'lunch bag'\n",
    "#### Hint: Use string functions"
   ]
  },
  {
   "cell_type": "code",
   "execution_count": 172,
   "metadata": {
    "id": "8gRA0WieI9Ez"
   },
   "outputs": [
    {
     "name": "stdout",
     "output_type": "stream",
     "text": [
      "        Unnamed: 0  InvoiceNo StockCode  year  month  day  hour  \\\n",
      "93              93     536378     20725  2010     12    3     9   \n",
      "172            174     536385     22662  2010     12    3     9   \n",
      "354            363     536401     22662  2010     12    3    11   \n",
      "359            368     536401     20725  2010     12    3    11   \n",
      "360            369     536401     22382  2010     12    3    11   \n",
      "...            ...        ...       ...   ...    ...  ...   ...   \n",
      "397465      540436     581486     23207  2011     12    5     9   \n",
      "397713      541695     581538     20727  2011     12    5    11   \n",
      "397714      541696     581538     20725  2011     12    5    11   \n",
      "397877      541862     581581     23681  2011     12    5    12   \n",
      "397880      541865     581583     20725  2011     12    5    12   \n",
      "\n",
      "                        Description  Quantity          InvoiceDate  UnitPrice  \\\n",
      "93          lunch bag red retrospot        10  2010-12-01 09:37:00       1.65   \n",
      "172     lunch bag dolly girl design        10  2010-12-01 09:56:00       1.65   \n",
      "354     lunch bag dolly girl design         1  2010-12-01 11:21:00       1.65   \n",
      "359         lunch bag red retrospot         1  2010-12-01 11:21:00       1.65   \n",
      "360      lunch bag spaceboy design          2  2010-12-01 11:21:00       1.65   \n",
      "...                             ...       ...                  ...        ...   \n",
      "397465    lunch bag alphabet design        10  2011-12-09 09:38:00       1.65   \n",
      "397713      lunch bag  black skull.         1  2011-12-09 11:34:00       1.65   \n",
      "397714      lunch bag red retrospot         1  2011-12-09 11:34:00       1.65   \n",
      "397877  lunch bag red vintage doily        10  2011-12-09 12:20:00       1.65   \n",
      "397880      lunch bag red retrospot        40  2011-12-09 12:23:00       1.45   \n",
      "\n",
      "        CustomerID         Country  amount_spent  \n",
      "93           14688  United Kingdom         16.50  \n",
      "172          17420  United Kingdom         16.50  \n",
      "354          15862  United Kingdom          1.65  \n",
      "359          15862  United Kingdom          1.65  \n",
      "360          15862  United Kingdom          3.30  \n",
      "...            ...             ...           ...  \n",
      "397465       17001  United Kingdom         16.50  \n",
      "397713       14446  United Kingdom          1.65  \n",
      "397714       14446  United Kingdom          1.65  \n",
      "397877       17581  United Kingdom         16.50  \n",
      "397880       13777  United Kingdom         58.00  \n",
      "\n",
      "[11556 rows x 14 columns]\n"
     ]
    }
   ],
   "source": [
    "# your answer here\n",
    "lunch=orders.loc[orders['Description'].str.contains('lunch bag')]\n",
    "\n",
    "print(lunch)"
   ]
  },
  {
   "cell_type": "code",
   "execution_count": 173,
   "metadata": {
    "id": "XCkp0kQsyZFW"
   },
   "outputs": [
    {
     "data": {
      "text/plain": [
       "Index(['Unnamed: 0', 'InvoiceNo', 'StockCode', 'year', 'month', 'day', 'hour',\n",
       "       'Description', 'Quantity', 'InvoiceDate', 'UnitPrice', 'CustomerID',\n",
       "       'Country', 'amount_spent'],\n",
       "      dtype='object')"
      ]
     },
     "execution_count": 173,
     "metadata": {},
     "output_type": "execute_result"
    }
   ],
   "source": [
    "lunch.columns"
   ]
  },
  {
   "cell_type": "markdown",
   "metadata": {
    "id": "WinM5E3QI9E0"
   },
   "source": [
    "#### Select all orders that are made in 2011 and are 'lunch bag'  "
   ]
  },
  {
   "cell_type": "code",
   "execution_count": 174,
   "metadata": {
    "id": "lPqy0pgZ5gE1"
   },
   "outputs": [
    {
     "name": "stdout",
     "output_type": "stream",
     "text": [
      "93        2010\n",
      "172       2010\n",
      "354       2010\n",
      "359       2010\n",
      "360       2010\n",
      "          ... \n",
      "397465    2011\n",
      "397713    2011\n",
      "397714    2011\n",
      "397877    2011\n",
      "397880    2011\n",
      "Name: year, Length: 11556, dtype: int64\n"
     ]
    }
   ],
   "source": [
    "print(lunch['year'])"
   ]
  },
  {
   "cell_type": "code",
   "execution_count": 175,
   "metadata": {
    "id": "5c8LvzioI9E0"
   },
   "outputs": [
    {
     "name": "stdout",
     "output_type": "stream",
     "text": [
      "       Unnamed: 0  InvoiceNo StockCode  year  month  day  hour  \\\n",
      "26160       42481     539993     22386  2011      1    2    10   \n",
      "26161       42482     539993     21499  2011      1    2    10   \n",
      "26162       42483     539993     21498  2011      1    2    10   \n",
      "26163       42484     539993     22379  2011      1    2    10   \n",
      "26164       42485     539993     20718  2011      1    2    10   \n",
      "\n",
      "                     Description  Quantity          InvoiceDate  UnitPrice  \\\n",
      "26160    jumbo bag pink polkadot        10  2011-01-04 10:00:00       1.95   \n",
      "26161         blue polkadot wrap        25  2011-01-04 10:00:00       0.42   \n",
      "26162        red retrospot wrap         25  2011-01-04 10:00:00       0.42   \n",
      "26163   recycling bag retrospot          5  2011-01-04 10:00:00       2.10   \n",
      "26164  red retrospot shopper bag        10  2011-01-04 10:00:00       1.25   \n",
      "\n",
      "       CustomerID         Country  amount_spent  \n",
      "26160       13313  United Kingdom          19.5  \n",
      "26161       13313  United Kingdom          10.5  \n",
      "26162       13313  United Kingdom          10.5  \n",
      "26163       13313  United Kingdom          10.5  \n",
      "26164       13313  United Kingdom          12.5  \n"
     ]
    }
   ],
   "source": [
    "# your answer here\n",
    "print(orders[(orders['Description'].str.find('lunch bag'))&(orders['year']==2011)].head())"
   ]
  },
  {
   "cell_type": "markdown",
   "metadata": {
    "id": "B26bkFfvI9E0"
   },
   "source": [
    "#### Show the frequency distribution of the amount spent in Spain."
   ]
  },
  {
   "cell_type": "code",
   "execution_count": 176,
   "metadata": {
    "id": "jfjZp-5jI9E0"
   },
   "outputs": [
    {
     "data": {
      "text/plain": [
       "<AxesSubplot:>"
      ]
     },
     "execution_count": 176,
     "metadata": {},
     "output_type": "execute_result"
    },
    {
     "data": {
      "image/png": "[encoded data removed]",
      "text/plain": [
       "<Figure size 432x288 with 1 Axes>"
      ]
     },
     "metadata": {
      "needs_background": "light"
     },
     "output_type": "display_data"
    }
   ],
   "source": [
    "# your answer here\n",
    "\n",
    "orders[orders['Country']=='Spain']['amount_spent'].hist()\n"
   ]
  },
  {
   "cell_type": "markdown",
   "metadata": {
    "id": "iWHxOGA0I9E0"
   },
   "source": [
    "#### Select all orders made in the month of August"
   ]
  },
  {
   "cell_type": "code",
   "execution_count": 177,
   "metadata": {
    "id": "bq1CRwN2I9E0"
   },
   "outputs": [
    {
     "name": "stdout",
     "output_type": "stream",
     "text": [
      "        Unnamed: 0  InvoiceNo StockCode  year  month  day  hour  \\\n",
      "199475      285421     561904     22075  2011      8    1     8   \n",
      "199476      285422     561904    85049E  2011      8    1     8   \n",
      "199477      285423     561905     21385  2011      8    1     9   \n",
      "199478      285424     561905    84970L  2011      8    1     9   \n",
      "199479      285425     561905    84970S  2011      8    1     9   \n",
      "...            ...        ...       ...   ...    ...  ...   ...   \n",
      "226483      320688     565067     22644  2011      8    3    17   \n",
      "226484      320689     565067     22645  2011      8    3    17   \n",
      "226485      320690     565067     22637  2011      8    3    17   \n",
      "226486      320691     565067     22646  2011      8    3    17   \n",
      "226487      320692     565067     22741  2011      8    3    17   \n",
      "\n",
      "                                Description  Quantity          InvoiceDate  \\\n",
      "199475         6 ribbons elegant christmas         96  2011-08-01 08:30:00   \n",
      "199476            scandinavian reds ribbons       156  2011-08-01 08:30:00   \n",
      "199477      ivory hanging decoration  heart        24  2011-08-01 09:31:00   \n",
      "199478     single heart zinc t-light holder        12  2011-08-01 09:31:00   \n",
      "199479    hanging heart zinc t-light holder        12  2011-08-01 09:31:00   \n",
      "...                                     ...       ...                  ...   \n",
      "226483       ceramic cherry cake money bank         2  2011-08-31 17:16:00   \n",
      "226484  ceramic heart fairy cake money bank         2  2011-08-31 17:16:00   \n",
      "226485                piggy bank retrospot          2  2011-08-31 17:16:00   \n",
      "226486   ceramic strawberry cake money bank         2  2011-08-31 17:16:00   \n",
      "226487                       funky diva pen        48  2011-08-31 17:16:00   \n",
      "\n",
      "        UnitPrice  CustomerID         Country  amount_spent  \n",
      "199475       1.45       17941  United Kingdom        139.20  \n",
      "199476       1.06       17941  United Kingdom        165.36  \n",
      "199477       0.85       14947  United Kingdom         20.40  \n",
      "199478       0.95       14947  United Kingdom         11.40  \n",
      "199479       0.85       14947  United Kingdom         10.20  \n",
      "...           ...         ...             ...           ...  \n",
      "226483       1.45       15856  United Kingdom          2.90  \n",
      "226484       1.45       15856  United Kingdom          2.90  \n",
      "226485       2.55       15856  United Kingdom          5.10  \n",
      "226486       1.45       15856  United Kingdom          2.90  \n",
      "226487       0.85       15856  United Kingdom         40.80  \n",
      "\n",
      "[27013 rows x 14 columns]\n",
      "[12, 1, 2, 3, 4, 5, 6, 7, 8, 9, 10, 11]\n"
     ]
    }
   ],
   "source": [
    "# your answer here\n",
    "\n",
    "print(orders[orders.month == 8])\n",
    "\n",
    "print(orders['month'].unique().tolist())"
   ]
  },
  {
   "cell_type": "markdown",
   "metadata": {
    "id": "R4_euciHI9E1"
   },
   "source": [
    "#### Select how many orders are made by countries in the month of August\n",
    "##### Hint: Use value_counts()"
   ]
  },
  {
   "cell_type": "code",
   "execution_count": 178,
   "metadata": {
    "id": "HksSJzfRI9E1"
   },
   "outputs": [
    {
     "name": "stdout",
     "output_type": "stream",
     "text": [
      "                 Country  Quantity\n",
      "0              Australia     84209\n",
      "1                Austria      4881\n",
      "2                Bahrain       260\n",
      "3                Belgium     23237\n",
      "4                 Brazil       356\n",
      "5                 Canada      2763\n",
      "6        Channel Islands      9491\n",
      "7                 Cyprus      6361\n",
      "8         Czech Republic       671\n",
      "9                Denmark      8235\n",
      "10                  EIRE    140525\n",
      "11    European Community       499\n",
      "12               Finland     10704\n",
      "13                France    111472\n",
      "14               Germany    119263\n",
      "15                Greece      1557\n",
      "16               Iceland      2458\n",
      "17                Israel      4046\n",
      "18                 Italy      8112\n",
      "19                 Japan     26016\n",
      "20               Lebanon       386\n",
      "21             Lithuania       652\n",
      "22                 Malta       970\n",
      "23           Netherlands    200937\n",
      "24                Norway     19338\n",
      "25                Poland      3684\n",
      "26              Portugal     16122\n",
      "27                   RSA       352\n",
      "28          Saudi Arabia        80\n",
      "29             Singapore      5241\n",
      "30                 Spain     27951\n",
      "31                Sweden     36083\n",
      "32           Switzerland     30083\n",
      "33                   USA      2458\n",
      "34  United Arab Emirates       982\n",
      "35        United Kingdom   4269472\n",
      "36           Unspecified      1789\n"
     ]
    }
   ],
   "source": [
    "# your answer here\n",
    "\n",
    "orders2 = orders.groupby(\"Country\", as_index=False).agg({\"Quantity\":'sum'})\n",
    "\n",
    "print(orders2)"
   ]
  },
  {
   "cell_type": "markdown",
   "metadata": {
    "id": "qEXo5U7nI9E1"
   },
   "source": [
    "#### What's the  average amount of money spent by country"
   ]
  },
  {
   "cell_type": "code",
   "execution_count": 179,
   "metadata": {
    "id": "_rz8tpY5I9E1"
   },
   "outputs": [
    {
     "name": "stdout",
     "output_type": "stream",
     "text": [
      "                 Country  amount_spent\n",
      "0              Australia    116.895620\n",
      "1                Austria     25.624824\n",
      "2                Bahrain     32.258824\n",
      "3                Belgium     20.283772\n",
      "4                 Brazil     35.737500\n",
      "5                 Canada     24.280662\n",
      "6        Channel Islands     27.340160\n",
      "7                 Cyprus     22.134169\n",
      "8         Czech Republic     33.069600\n",
      "9                Denmark     49.882474\n",
      "10                  EIRE     36.687745\n",
      "11    European Community     21.670833\n",
      "12               Finland     32.913985\n",
      "13                France     25.056827\n",
      "14               Germany     25.311562\n",
      "15                Greece     32.831172\n",
      "16               Iceland     23.681319\n",
      "17                Israel     29.119718\n",
      "18                 Italy     23.064960\n",
      "19                 Japan    116.561900\n",
      "20               Lebanon     37.641778\n",
      "21             Lithuania     47.458857\n",
      "22                 Malta     24.335625\n",
      "23           Netherlands    120.798282\n",
      "24                Norway     33.736418\n",
      "25                Poland     22.226212\n",
      "26              Portugal     22.872702\n",
      "27                   RSA     17.281207\n",
      "28          Saudi Arabia     16.213333\n",
      "29             Singapore     95.852658\n",
      "30                 Spain     24.779521\n",
      "31                Sweden     85.096075\n",
      "32           Switzerland     30.642752\n",
      "33                   USA     20.002179\n",
      "34  United Arab Emirates     27.974706\n",
      "35        United Kingdom     20.625073\n",
      "36           Unspecified     10.930615\n"
     ]
    }
   ],
   "source": [
    "# your answer here\n",
    "\n",
    "orders3 = orders.groupby(\"Country\", as_index=False).agg({\"amount_spent\":\"mean\"})\n",
    "\n",
    "print(orders3)"
   ]
  },
  {
   "cell_type": "markdown",
   "metadata": {
    "id": "z8DRzFAJI9E1"
   },
   "source": [
    "#### What's the most expensive item?"
   ]
  },
  {
   "cell_type": "code",
   "execution_count": 180,
   "metadata": {
    "id": "2LLV7z6dI9E1"
   },
   "outputs": [
    {
     "name": "stdout",
     "output_type": "stream",
     "text": [
      "8142.75\n"
     ]
    }
   ],
   "source": [
    "# your answer here\n",
    "\n",
    "orders4 = orders.UnitPrice.max()\n",
    "\n",
    "print(orders4)"
   ]
  },
  {
   "cell_type": "markdown",
   "metadata": {
    "id": "adSOT9mtI9E1"
   },
   "source": [
    "#### What was the average amount spent per year ?"
   ]
  },
  {
   "cell_type": "code",
   "execution_count": 182,
   "metadata": {
    "id": "URHqxWSjI9E2"
   },
   "outputs": [
    {
     "data": {
      "text/html": [
       "<div>\n",
       "<style scoped>\n",
       "    .dataframe tbody tr th:only-of-type {\n",
       "        vertical-align: middle;\n",
       "    }\n",
       "\n",
       "    .dataframe tbody tr th {\n",
       "        vertical-align: top;\n",
       "    }\n",
       "\n",
       "    .dataframe thead th {\n",
       "        text-align: right;\n",
       "    }\n",
       "</style>\n",
       "<table border=\"1\" class=\"dataframe\">\n",
       "  <thead>\n",
       "    <tr style=\"text-align: right;\">\n",
       "      <th></th>\n",
       "      <th>year</th>\n",
       "      <th>amount_spent</th>\n",
       "    </tr>\n",
       "  </thead>\n",
       "  <tbody>\n",
       "    <tr>\n",
       "      <th>0</th>\n",
       "      <td>2010</td>\n",
       "      <td>21.892733</td>\n",
       "    </tr>\n",
       "    <tr>\n",
       "      <th>1</th>\n",
       "      <td>2011</td>\n",
       "      <td>22.430074</td>\n",
       "    </tr>\n",
       "  </tbody>\n",
       "</table>\n",
       "</div>"
      ],
      "text/plain": [
       "   year  amount_spent\n",
       "0  2010     21.892733\n",
       "1  2011     22.430074"
      ]
     },
     "execution_count": 182,
     "metadata": {},
     "output_type": "execute_result"
    }
   ],
   "source": [
    "# your answer here\n",
    "\n",
    "orders = orders.groupby(\"year\", as_index=False).agg({\"amount_spent\":\"mean\"})\n",
    "orders"
   ]
  }
 ],
 "metadata": {
  "anaconda-cloud": {},
  "colab": {
   "collapsed_sections": [],
   "name": "main.ipynb",
   "provenance": []
  },
  "kernelspec": {
   "display_name": "Python 3",
   "language": "python",
   "name": "python3"
  },
  "language_info": {
   "codemirror_mode": {
    "name": "ipython",
    "version": 3
   },
   "file_extension": ".py",
   "mimetype": "text/x-python",
   "name": "python",
   "nbconvert_exporter": "python",
   "pygments_lexer": "ipython3",
   "version": "3.8.5"
  }
 },
 "nbformat": 4,
 "nbformat_minor": 4
}
